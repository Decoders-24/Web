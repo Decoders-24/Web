{
  "cells": [
    {
      "cell_type": "markdown",
      "id": "36f67e9c",
      "metadata": {
        "id": "36f67e9c"
      },
      "source": [
        "## Step 1: Import the iris dataset using load_iris class from sklearn.datasets and split it into training and testing subsets"
      ]
    },
    {
      "cell_type": "code",
      "execution_count": 2,
      "id": "581c6a19",
      "metadata": {
        "id": "581c6a19"
      },
      "outputs": [],
      "source": [
        "from sklearn.datasets import load_iris\n",
        "\n",
        "ds = load_iris()\n",
        "x = ds.data\n",
        "y = ds.target"
      ]
    },
    {
      "cell_type": "code",
      "execution_count": 3,
      "id": "b1568ef3",
      "metadata": {
        "colab": {
          "base_uri": "https://localhost:8080/"
        },
        "id": "b1568ef3",
        "outputId": "77e77356-16cc-4065-a49c-7cfd65957402"
      },
      "outputs": [
        {
          "output_type": "stream",
          "name": "stdout",
          "text": [
            "Training Data Input Shape: (120, 4)\n",
            "Testing Data Input Shape: (120,)\n",
            "Training Data Output Shape: (30, 4)\n",
            "Testing Data Output Shape: (30,)\n"
          ]
        }
      ],
      "source": [
        "from sklearn.model_selection import train_test_split\n",
        "\n",
        "x_train, x_test, y_train, y_test = train_test_split(x,y,random_state=44,test_size = 0.2 )\n",
        "print(\"Training Data Input Shape:\",x_train.shape)\n",
        "print(\"Testing Data Input Shape:\",y_train.shape)\n",
        "print(\"Training Data Output Shape:\",x_test.shape)\n",
        "print(\"Testing Data Output Shape:\",y_test.shape)"
      ]
    },
    {
      "cell_type": "markdown",
      "id": "adeed571",
      "metadata": {
        "id": "adeed571"
      },
      "source": [
        "## Step 2: Build the MLP Model\n",
        "\n",
        "--> Import MLPClassifier from sklearn.neural_network module\n",
        "\n",
        "--> Multilayer Perceptron Classifier\n",
        "\n",
        "--> Some Hyper Parameters:\n",
        "\n",
        "    * max_iter - Maximum number of iterations. Default is 200.\n",
        "    \n",
        "    * hidden_layer_sizes - Determines the number of hidden layers and number of neurons in each layer. Default is (100, ) i.e., 1 hidden layer with 100 neurons.\n",
        "    \n",
        "    * activation - Activation function for the hidden layers {'identity', 'logistic', 'tanh', 'relu'}. Default is 'relu'.\n",
        "    \n",
        "    * solver - The solver for weight optimization {'lbfgs', 'sgd', 'adam'}. Default is 'adam'.\n",
        "    \n",
        "    * batch_size - Size of minibatches for stochostic optimizers.\n",
        "    \n",
        "    * learning_rate - Learning rate schedule for weight update {'constant', 'invscaling', 'adaptive}. Default is 'constant'.\n",
        "    \n",
        "    * learning_rate_init - The initial learning rate. Default is 0.001.\n",
        "    \n",
        "    * momentum - Momentum for gradient decent update {0 - 1}. Defult is 0.9.\n",
        "    \n",
        "--> fit(x_train, y_train) method can be used to build the model.\n"
      ]
    },
    {
      "cell_type": "code",
      "source": [
        "from sklearn.neural_network import MLPClassifier"
      ],
      "metadata": {
        "id": "cr9Ockf1jxf7"
      },
      "id": "cr9Ockf1jxf7",
      "execution_count": 5,
      "outputs": []
    },
    {
      "cell_type": "code",
      "execution_count": 6,
      "id": "fe5998e4",
      "metadata": {
        "colab": {
          "base_uri": "https://localhost:8080/",
          "height": 129
        },
        "id": "fe5998e4",
        "outputId": "931c0944-c0e0-4e5a-e38a-4e0fb749488c"
      },
      "outputs": [
        {
          "output_type": "stream",
          "name": "stderr",
          "text": [
            "/usr/local/lib/python3.10/dist-packages/sklearn/neural_network/_multilayer_perceptron.py:686: ConvergenceWarning: Stochastic Optimizer: Maximum iterations (100) reached and the optimization hasn't converged yet.\n",
            "  warnings.warn(\n"
          ]
        },
        {
          "output_type": "execute_result",
          "data": {
            "text/plain": [
              "MLPClassifier(max_iter=100)"
            ],
            "text/html": [
              "<style>#sk-container-id-1 {color: black;background-color: white;}#sk-container-id-1 pre{padding: 0;}#sk-container-id-1 div.sk-toggleable {background-color: white;}#sk-container-id-1 label.sk-toggleable__label {cursor: pointer;display: block;width: 100%;margin-bottom: 0;padding: 0.3em;box-sizing: border-box;text-align: center;}#sk-container-id-1 label.sk-toggleable__label-arrow:before {content: \"▸\";float: left;margin-right: 0.25em;color: #696969;}#sk-container-id-1 label.sk-toggleable__label-arrow:hover:before {color: black;}#sk-container-id-1 div.sk-estimator:hover label.sk-toggleable__label-arrow:before {color: black;}#sk-container-id-1 div.sk-toggleable__content {max-height: 0;max-width: 0;overflow: hidden;text-align: left;background-color: #f0f8ff;}#sk-container-id-1 div.sk-toggleable__content pre {margin: 0.2em;color: black;border-radius: 0.25em;background-color: #f0f8ff;}#sk-container-id-1 input.sk-toggleable__control:checked~div.sk-toggleable__content {max-height: 200px;max-width: 100%;overflow: auto;}#sk-container-id-1 input.sk-toggleable__control:checked~label.sk-toggleable__label-arrow:before {content: \"▾\";}#sk-container-id-1 div.sk-estimator input.sk-toggleable__control:checked~label.sk-toggleable__label {background-color: #d4ebff;}#sk-container-id-1 div.sk-label input.sk-toggleable__control:checked~label.sk-toggleable__label {background-color: #d4ebff;}#sk-container-id-1 input.sk-hidden--visually {border: 0;clip: rect(1px 1px 1px 1px);clip: rect(1px, 1px, 1px, 1px);height: 1px;margin: -1px;overflow: hidden;padding: 0;position: absolute;width: 1px;}#sk-container-id-1 div.sk-estimator {font-family: monospace;background-color: #f0f8ff;border: 1px dotted black;border-radius: 0.25em;box-sizing: border-box;margin-bottom: 0.5em;}#sk-container-id-1 div.sk-estimator:hover {background-color: #d4ebff;}#sk-container-id-1 div.sk-parallel-item::after {content: \"\";width: 100%;border-bottom: 1px solid gray;flex-grow: 1;}#sk-container-id-1 div.sk-label:hover label.sk-toggleable__label {background-color: #d4ebff;}#sk-container-id-1 div.sk-serial::before {content: \"\";position: absolute;border-left: 1px solid gray;box-sizing: border-box;top: 0;bottom: 0;left: 50%;z-index: 0;}#sk-container-id-1 div.sk-serial {display: flex;flex-direction: column;align-items: center;background-color: white;padding-right: 0.2em;padding-left: 0.2em;position: relative;}#sk-container-id-1 div.sk-item {position: relative;z-index: 1;}#sk-container-id-1 div.sk-parallel {display: flex;align-items: stretch;justify-content: center;background-color: white;position: relative;}#sk-container-id-1 div.sk-item::before, #sk-container-id-1 div.sk-parallel-item::before {content: \"\";position: absolute;border-left: 1px solid gray;box-sizing: border-box;top: 0;bottom: 0;left: 50%;z-index: -1;}#sk-container-id-1 div.sk-parallel-item {display: flex;flex-direction: column;z-index: 1;position: relative;background-color: white;}#sk-container-id-1 div.sk-parallel-item:first-child::after {align-self: flex-end;width: 50%;}#sk-container-id-1 div.sk-parallel-item:last-child::after {align-self: flex-start;width: 50%;}#sk-container-id-1 div.sk-parallel-item:only-child::after {width: 0;}#sk-container-id-1 div.sk-dashed-wrapped {border: 1px dashed gray;margin: 0 0.4em 0.5em 0.4em;box-sizing: border-box;padding-bottom: 0.4em;background-color: white;}#sk-container-id-1 div.sk-label label {font-family: monospace;font-weight: bold;display: inline-block;line-height: 1.2em;}#sk-container-id-1 div.sk-label-container {text-align: center;}#sk-container-id-1 div.sk-container {/* jupyter's `normalize.less` sets `[hidden] { display: none; }` but bootstrap.min.css set `[hidden] { display: none !important; }` so we also need the `!important` here to be able to override the default hidden behavior on the sphinx rendered scikit-learn.org. See: https://github.com/scikit-learn/scikit-learn/issues/21755 */display: inline-block !important;position: relative;}#sk-container-id-1 div.sk-text-repr-fallback {display: none;}</style><div id=\"sk-container-id-1\" class=\"sk-top-container\"><div class=\"sk-text-repr-fallback\"><pre>MLPClassifier(max_iter=100)</pre><b>In a Jupyter environment, please rerun this cell to show the HTML representation or trust the notebook. <br />On GitHub, the HTML representation is unable to render, please try loading this page with nbviewer.org.</b></div><div class=\"sk-container\" hidden><div class=\"sk-item\"><div class=\"sk-estimator sk-toggleable\"><input class=\"sk-toggleable__control sk-hidden--visually\" id=\"sk-estimator-id-1\" type=\"checkbox\" checked><label for=\"sk-estimator-id-1\" class=\"sk-toggleable__label sk-toggleable__label-arrow\">MLPClassifier</label><div class=\"sk-toggleable__content\"><pre>MLPClassifier(max_iter=100)</pre></div></div></div></div></div>"
            ]
          },
          "metadata": {},
          "execution_count": 6
        }
      ],
      "source": [
        "# MLP with 100 iterations and one hidden layer with 100 default nodes.\n",
        "model1 = MLPClassifier(max_iter = 100, hidden_layer_sizes = (100, ))\n",
        "model1.fit(x_train, y_train)"
      ]
    },
    {
      "cell_type": "markdown",
      "id": "3d2eb8cf",
      "metadata": {
        "id": "3d2eb8cf"
      },
      "source": [
        "## Step 3: Evaluate the model performance\n",
        "\n",
        "--> Import accuracy_score function from sklearn.metrics\n",
        "\n",
        "--> Check for any overfitting"
      ]
    },
    {
      "cell_type": "code",
      "execution_count": 10,
      "id": "93be2c18",
      "metadata": {
        "colab": {
          "base_uri": "https://localhost:8080/"
        },
        "id": "93be2c18",
        "outputId": "f5a3b489-10c2-432b-baff-3d72eeaa4760"
      },
      "outputs": [
        {
          "output_type": "stream",
          "name": "stdout",
          "text": [
            "Training Accuracy:  0.95\n",
            "Testing Accuracy:  1.0\n"
          ]
        }
      ],
      "source": [
        "from sklearn.metrics import accuracy_score\n",
        "\n",
        "print(\"Training Accuracy: \", accuracy_score(y_train, model1.predict(x_train)))\n",
        "print(\"Testing Accuracy: \", accuracy_score(y_test, model1.predict(x_test)))"
      ]
    },
    {
      "cell_type": "markdown",
      "id": "9f7ca313",
      "metadata": {
        "id": "9f7ca313"
      },
      "source": [
        "## Step 4: Fine tune the model performance by  channging hyper parammeter values\n",
        "\n",
        "--> Check for any overfitting"
      ]
    },
    {
      "cell_type": "code",
      "execution_count": 15,
      "id": "a7dc2de0",
      "metadata": {
        "colab": {
          "base_uri": "https://localhost:8080/"
        },
        "id": "a7dc2de0",
        "outputId": "658734db-5c1d-488c-d428-70a7f9048bf2"
      },
      "outputs": [
        {
          "output_type": "stream",
          "name": "stdout",
          "text": [
            "Training Accuracy:  0.975\n",
            "Testing Accuracy:  1.0\n"
          ]
        },
        {
          "output_type": "stream",
          "name": "stderr",
          "text": [
            "/usr/local/lib/python3.10/dist-packages/sklearn/neural_network/_multilayer_perceptron.py:686: ConvergenceWarning: Stochastic Optimizer: Maximum iterations (100) reached and the optimization hasn't converged yet.\n",
            "  warnings.warn(\n"
          ]
        }
      ],
      "source": [
        "# MLP with 100 iterations and two hidden layers with 100 and 20 nodes respectively.\n",
        "model2 = MLPClassifier(max_iter = 100, hidden_layer_sizes = (100, 20))\n",
        "model2.fit(x_train, y_train)\n",
        "\n",
        "print(\"Training Accuracy: \", accuracy_score(y_train, model2.predict(x_train)))\n",
        "print(\"Testing Accuracy: \", accuracy_score(y_test, model2.predict(x_test)))"
      ]
    },
    {
      "cell_type": "code",
      "execution_count": 16,
      "id": "8dae23e0",
      "metadata": {
        "colab": {
          "base_uri": "https://localhost:8080/"
        },
        "id": "8dae23e0",
        "outputId": "11baf159-0eac-482e-c68a-f2ce6488b537"
      },
      "outputs": [
        {
          "output_type": "stream",
          "name": "stdout",
          "text": [
            "Training Accuracy:  0.9833333333333333\n",
            "Testing Accuracy:  1.0\n"
          ]
        },
        {
          "output_type": "stream",
          "name": "stderr",
          "text": [
            "/usr/local/lib/python3.10/dist-packages/sklearn/neural_network/_multilayer_perceptron.py:686: ConvergenceWarning: Stochastic Optimizer: Maximum iterations (100) reached and the optimization hasn't converged yet.\n",
            "  warnings.warn(\n"
          ]
        }
      ],
      "source": [
        "# MLP with 100 iterations, two hidden layers with 100 and 20 nodes respectively and tanh activation function.\n",
        "\n",
        "model3 = MLPClassifier(max_iter = 100, hidden_layer_sizes = (100, 20), activation=\"tanh\")\n",
        "model3.fit(x_train, y_train)\n",
        "\n",
        "print(\"Training Accuracy: \", accuracy_score(y_train, model3.predict(x_train)))\n",
        "print(\"Testing Accuracy: \", accuracy_score(y_test, model3.predict(x_test)))"
      ]
    }
  ],
  "metadata": {
    "kernelspec": {
      "display_name": "Python 3",
      "language": "python",
      "name": "python3"
    },
    "language_info": {
      "codemirror_mode": {
        "name": "ipython",
        "version": 3
      },
      "file_extension": ".py",
      "mimetype": "text/x-python",
      "name": "python",
      "nbconvert_exporter": "python",
      "pygments_lexer": "ipython3",
      "version": "3.9.4"
    },
    "colab": {
      "provenance": []
    }
  },
  "nbformat": 4,
  "nbformat_minor": 5
}