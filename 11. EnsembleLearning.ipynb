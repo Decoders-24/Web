{
 "cells": [
  {
   "cell_type": "markdown",
   "metadata": {},
   "source": [
    "## Step 1: Load the breast_cancer dataset from sklearn.datasets using load_breast_cancer class and split it into traing and testing subsets."
   ]
  },
  {
   "cell_type": "code",
   "execution_count": 1,
   "metadata": {},
   "outputs": [
    {
     "name": "stderr",
     "output_type": "stream",
     "text": [
      "C:\\ProgramData\\Anaconda3\\lib\\site-packages\\scipy\\__init__.py:155: UserWarning: A NumPy version >=1.18.5 and <1.25.0 is required for this version of SciPy (detected version 1.26.3\n",
      "  warnings.warn(f\"A NumPy version >={np_minversion} and <{np_maxversion}\"\n"
     ]
    }
   ],
   "source": [
    "from sklearn.datasets import load_breast_cancer\n",
    "from sklearn.model_selection import train_test_split\n",
    "\n",
    "dataset = load_breast_cancer()\n",
    "\n",
    "x=dataset.data\n",
    "y=dataset.target\n",
    "\n",
    "x_train, x_test, y_train, y_test = train_test_split(x,y\n",
    "                                                    ,random_state=42\n",
    "                                                    ,test_size = 0.2 )"
   ]
  },
  {
   "cell_type": "code",
   "execution_count": 9,
   "metadata": {},
   "outputs": [
    {
     "name": "stdout",
     "output_type": "stream",
     "text": [
      "Collecting package metadata (current_repodata.json): ...working... done\n",
      "Solving environment: ...working... done\n",
      "\n",
      "# All requested packages already installed.\n",
      "\n",
      "Retrieving notices: ...working... done\n"
     ]
    },
    {
     "name": "stderr",
     "output_type": "stream",
     "text": [
      "\n",
      "\n",
      "==> WARNING: A newer version of conda exists. <==\n",
      "  current version: 22.9.0\n",
      "  latest version: 24.1.2\n",
      "\n",
      "Please update conda by running\n",
      "\n",
      "    $ conda update -n base -c defaults conda\n",
      "\n",
      "\n"
     ]
    }
   ],
   "source": [
    "!conda install numpy"
   ]
  },
  {
   "cell_type": "markdown",
   "metadata": {},
   "source": [
    "## Step 2: Build the Decision Tree, Random Forest and AdaBoost models\n",
    "\n",
    "--> Import DecisionTreeClassifier from sklearn.tree module\n",
    "\n",
    "--> Import RandomForestClassifier and AdaBoostClassifier classes from sklearn.ensemble module.\n",
    "\n",
    "--> We can use n_estimators parameter while creating models to change the default number of 10 weak models."
   ]
  },
  {
   "cell_type": "code",
   "execution_count": 4,
   "metadata": {},
   "outputs": [
    {
     "name": "stdout",
     "output_type": "stream",
     "text": [
      "DecisionTreeClassifier(criterion='entropy')\n",
      "RandomForestClassifier(n_estimators=5)\n"
     ]
    },
    {
     "data": {
      "text/plain": [
       "AdaBoostClassifier(n_estimators=5)"
      ]
     },
     "execution_count": 4,
     "metadata": {},
     "output_type": "execute_result"
    }
   ],
   "source": [
    "from sklearn.tree import DecisionTreeClassifier\n",
    "from sklearn.ensemble import RandomForestClassifier, AdaBoostClassifier\n",
    "\n",
    "tree1 = DecisionTreeClassifier(criterion = 'entropy')\n",
    "print(tree1.fit(x_train, y_train))\n",
    "\n",
    "RfModel = RandomForestClassifier(n_estimators = 5)\n",
    "print(RfModel.fit(x_train, y_train))\n",
    "adModel = AdaBoostClassifier(n_estimators = 5)\n",
    "adModel.fit(x_train, y_train)"
   ]
  },
  {
   "cell_type": "code",
   "execution_count": null,
   "metadata": {},
   "outputs": [],
   "source": []
  },
  {
   "cell_type": "code",
   "execution_count": null,
   "metadata": {},
   "outputs": [],
   "source": []
  },
  {
   "cell_type": "markdown",
   "metadata": {},
   "source": [
    "## Step 3: Compare the performance of all three models\n",
    "\n",
    "--> Import accuracy_score from sklearn.metrics module.\n",
    "\n",
    "--> Compute both Traing and Test accuracies to observe any overfitting."
   ]
  },
  {
   "cell_type": "code",
   "execution_count": 5,
   "metadata": {},
   "outputs": [
    {
     "name": "stdout",
     "output_type": "stream",
     "text": [
      "Training Accuracy of Decision Tree: 1.0\n",
      "Training Accuracy of Random Forest Model: 0.9978021978021978\n",
      "Training Accuracy of AdaBoost Model: 0.967032967032967\n"
     ]
    }
   ],
   "source": [
    "from sklearn.metrics import accuracy_score\n",
    "\n",
    "tree_train_acc = accuracy_score(y_train, tree1.predict(x_train))\n",
    "Rfmodel_train_acc = accuracy_score(y_train, RfModel.predict(x_train))\n",
    "adModel_train_acc = accuracy_score(y_train, adModel.predict(x_train))\n",
    "\n",
    "print(\"Training Accuracy of Decision Tree:\", tree_train_acc)\n",
    "print(\"Training Accuracy of Random Forest Model:\", Rfmodel_train_acc)\n",
    "print(\"Training Accuracy of AdaBoost Model:\", adModel_train_acc)"
   ]
  },
  {
   "cell_type": "code",
   "execution_count": 7,
   "metadata": {},
   "outputs": [
    {
     "name": "stdout",
     "output_type": "stream",
     "text": [
      "Tesing Accuracy of Decision Tree: 0.9385964912280702\n",
      "Testing Accuracy of Random Forest Model: 0.9473684210526315\n",
      "Testing Accuracy of AdaBoost Model: 0.9736842105263158\n"
     ]
    }
   ],
   "source": [
    "tree_test_acc = accuracy_score(y_test, tree1.predict(x_test))\n",
    "Rfmodel_test_acc = accuracy_score(y_test, RfModel.predict(x_test))\n",
    "adModel_test_acc = accuracy_score(y_test, adModel.predict(x_test))\n",
    "\n",
    "print(\"Tesing Accuracy of Decision Tree:\", tree_test_acc)\n",
    "print(\"Testing Accuracy of Random Forest Model:\", Rfmodel_test_acc)\n",
    "print(\"Testing Accuracy of AdaBoost Model:\", adModel_test_acc)"
   ]
  },
  {
   "cell_type": "code",
   "execution_count": null,
   "metadata": {},
   "outputs": [],
   "source": []
  }
 ],
 "metadata": {
  "kernelspec": {
   "display_name": "Python 3 (ipykernel)",
   "language": "python",
   "name": "python3"
  },
  "language_info": {
   "codemirror_mode": {
    "name": "ipython",
    "version": 3
   },
   "file_extension": ".py",
   "mimetype": "text/x-python",
   "name": "python",
   "nbconvert_exporter": "python",
   "pygments_lexer": "ipython3",
   "version": "3.9.13"
  }
 },
 "nbformat": 4,
 "nbformat_minor": 2
}
